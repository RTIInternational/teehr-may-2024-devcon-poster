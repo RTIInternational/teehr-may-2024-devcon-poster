{
 "cells": [
  {
   "cell_type": "code",
   "execution_count": null,
   "id": "b8e9191f-b1bb-417c-a1ee-24dfdd794125",
   "metadata": {},
   "outputs": [],
   "source": [
    "from utils.const import *\n",
    "import duckdb\n",
    "import teehr.queries.duckdb as tqd"
   ]
  },
  {
   "cell_type": "code",
   "execution_count": null,
   "id": "551cfdce-f9ed-40b0-b4f0-fe534ef53f5a",
   "metadata": {},
   "outputs": [],
   "source": [
    "%%time\n",
    "# print out the query to replace reading from joined parquet.\n",
    "df = tqd.get_metrics(\n",
    "    primary_filepath=LOCAL_PRIMARY_FILEPATH,\n",
    "    secondary_filepath=LOCAL_SECONDARY_FILEPATH,\n",
    "    crosswalk_filepath=LOCAL_CROSSWALK_FILEPATH,\n",
    "    include_metrics=[\"root_mean_squared_error\", \"relative_bias\", \"kling_gupta_efficiency\", \"r_squared\"],\n",
    "    group_by=[\"primary_location_id\", \"configuration\"],\n",
    "    order_by=[\"primary_location_id\", \"configuration\"],\n",
    "    remove_duplicates=False,\n",
    "    return_query=True,\n",
    ")\n",
    "print(df)"
   ]
  },
  {
   "cell_type": "code",
   "execution_count": null,
   "id": "6d079a90-f7f0-4bc5-b2d2-a8ad6c2ee845",
   "metadata": {},
   "outputs": [],
   "source": [
    "%%time\n",
    "df = duckdb.query(f\"\"\"\n",
    "WITH joined AS (\n",
    "        SELECT * FROM '{LOCAL_JOINED_FILEPATH}'\n",
    "    )\n",
    "    , metrics AS (\n",
    "        SELECT\n",
    "            joined.primary_location_id,joined.configuration\n",
    "            , 1 - sqrt(\n",
    "        pow(corr(secondary_value, primary_value) - 1, 2)\n",
    "        + pow(stddev(secondary_value)\n",
    "            / stddev(primary_value) - 1, 2)\n",
    "        + pow(avg(secondary_value) / avg(primary_value) - 1, 2)\n",
    "    ) as kling_gupta_efficiency\n",
    "            , sqrt(sum(power(absolute_difference, 2))/count(*))\n",
    "        as root_mean_squared_error\n",
    "            , sum(secondary_value - primary_value) / sum(primary_value) AS relative_bias\n",
    "            , pow(corr(secondary_value, primary_value), 2) as r_squared\n",
    "        FROM\n",
    "            joined\n",
    "        GROUP BY\n",
    "            joined.primary_location_id,joined.configuration\n",
    "    )\n",
    "    SELECT\n",
    "        metrics.*\n",
    "    FROM metrics\n",
    "    ORDER BY\n",
    "        metrics.primary_location_id,metrics.configuration\n",
    ";\n",
    "\"\"\").to_df()\n",
    "df"
   ]
  },
  {
   "cell_type": "code",
   "execution_count": null,
   "id": "45569fe1-d6a4-4627-8d3c-0026bc6804aa",
   "metadata": {},
   "outputs": [],
   "source": [
    "df.to_parquet(\"/data/benchmarks/teehr-benchmark-202404/results/validation_teehr_metric_values.parquet\")"
   ]
  },
  {
   "cell_type": "code",
   "execution_count": null,
   "id": "a8d23e86-53f1-4c04-a6d0-94f4bf92149e",
   "metadata": {},
   "outputs": [],
   "source": []
  }
 ],
 "metadata": {
  "kernelspec": {
   "display_name": "Python 3 (ipykernel)",
   "language": "python",
   "name": "python3"
  },
  "language_info": {
   "codemirror_mode": {
    "name": "ipython",
    "version": 3
   },
   "file_extension": ".py",
   "mimetype": "text/x-python",
   "name": "python",
   "nbconvert_exporter": "python",
   "pygments_lexer": "ipython3",
   "version": "3.11.8"
  }
 },
 "nbformat": 4,
 "nbformat_minor": 5
}
