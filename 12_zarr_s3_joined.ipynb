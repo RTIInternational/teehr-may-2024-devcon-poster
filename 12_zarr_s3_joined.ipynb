{
 "cells": [
  {
   "cell_type": "code",
   "execution_count": null,
   "id": "63763936-6416-4de4-9f3c-3ccea9d7cf4a",
   "metadata": {},
   "outputs": [],
   "source": [
    "from pathlib import Path\n",
    "\n",
    "import duckdb\n",
    "import xarray as xr\n",
    "from dask.distributed import Client, LocalCluster\n",
    "from dask_gateway import Gateway\n",
    "import dask\n",
    "import numpy as np\n",
    "import pandas as pd\n",
    "\n",
    "import teehr.queries.duckdb as tqd\n",
    "\n",
    "from const import S3_ZARR_JOINED_NWM20_FILEPATH, S3_ZARR_JOINED_NWM21_FILEPATH\n",
    "\n",
    "from zarr_metric_funcs import get_zarr_metrics\n",
    "\n",
    "# S3_JOINED_NWM20_FILEPATH = \"s3://ciroh-rti-public-data/teehr/protocols/science-eval/timeseries/joined_nwm20_retrospective_201*.parquet\""
   ]
  },
  {
   "cell_type": "markdown",
   "id": "f015a3e1-a9b7-47d4-b1a5-5bb26398bee2",
   "metadata": {},
   "source": [
    "# Zarr approach"
   ]
  },
  {
   "cell_type": "code",
   "execution_count": null,
   "id": "42a2c6ed-6177-4ae0-88af-7dfe31b1e041",
   "metadata": {},
   "outputs": [],
   "source": [
    "cluster = LocalCluster()\n",
    "client = Client(cluster)\n",
    "client"
   ]
  },
  {
   "cell_type": "code",
   "execution_count": null,
   "id": "73a2e198-acb4-43a4-a772-0627aa17898c",
   "metadata": {},
   "outputs": [],
   "source": [
    "%%time\n",
    "zarr_ds = xr.open_zarr(S3_ZARR_JOINED_NWM20_FILEPATH)\n",
    "primary_da = zarr_ds.streamflow.sel(timeseries_name=\"primary_value\")\n",
    "secondary_da = zarr_ds.streamflow.sel(timeseries_name=\"secondary_value\")\n",
    "df_nwm20 = get_zarr_metrics(primary_da, secondary_da, configuration=\"nwm20_retrospective\")\n",
    "\n",
    "zarr_ds = xr.open_zarr(S3_ZARR_JOINED_NWM21_FILEPATH)\n",
    "primary_da = zarr_ds.streamflow.sel(timeseries_name=\"primary_value\")\n",
    "secondary_da = zarr_ds.streamflow.sel(timeseries_name=\"secondary_value\")\n",
    "df_nwm21 = get_zarr_metrics(primary_da, secondary_da, configuration=\"nwm21_retrospective\")\n",
    "\n",
    "df = pd.concat([df_nwm20, df_nwm21])\n",
    "df.sort_values([\"primary_location_id\", \"configuration\"])"
   ]
  },
  {
   "cell_type": "code",
   "execution_count": null,
   "id": "fdd45dba-d18e-46ba-936b-9545c9d95575",
   "metadata": {},
   "outputs": [],
   "source": [
    "df.to_parquet(\"/data/benchmarks/teehr-benchmark-202404/results/zarr_s3_joined_results.parquet\")"
   ]
  },
  {
   "cell_type": "code",
   "execution_count": null,
   "id": "f2204956-2220-4c28-88fd-ef49dd7f29d9",
   "metadata": {},
   "outputs": [],
   "source": [
    "df"
   ]
  },
  {
   "cell_type": "code",
   "execution_count": null,
   "id": "56127b87-638e-46d1-ab74-f05a998f74c0",
   "metadata": {},
   "outputs": [],
   "source": []
  }
 ],
 "metadata": {
  "kernelspec": {
   "display_name": "Python 3 (ipykernel)",
   "language": "python",
   "name": "python3"
  },
  "language_info": {
   "codemirror_mode": {
    "name": "ipython",
    "version": 3
   },
   "file_extension": ".py",
   "mimetype": "text/x-python",
   "name": "python",
   "nbconvert_exporter": "python",
   "pygments_lexer": "ipython3",
   "version": "3.11.8"
  }
 },
 "nbformat": 4,
 "nbformat_minor": 5
}
