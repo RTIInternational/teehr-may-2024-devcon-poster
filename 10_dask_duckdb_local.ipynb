{
 "cells": [
  {
   "cell_type": "code",
   "execution_count": null,
   "id": "35199d36-e678-4bb7-b4c8-386dd812d46b",
   "metadata": {},
   "outputs": [],
   "source": [
    "from pathlib import Path\n",
    "\n",
    "import duckdb\n",
    "import xarray as xr\n",
    "from dask.distributed import Client, LocalCluster\n",
    "from dask_gateway import Gateway\n",
    "import dask.dataframe as dd\n",
    "import dask\n",
    "import numpy as np\n",
    "import pandas as pd\n",
    "from numba import jit, njit\n",
    "\n",
    "from utils.const import LOCAL_JOINED_FILEPATH, LOCAL_DATABASE_FILEPATH, S3_JOINED_FILEPATH, S3_DATABASE_FILEPATH\n",
    "from utils.numpy_metric_funcs import r_squared, relative_bias, kling_gupta_efficiency, root_mean_squared_error"
   ]
  },
  {
   "cell_type": "code",
   "execution_count": null,
   "id": "a80dd3fc-aa73-4408-a2cb-834f1afb6cc7",
   "metadata": {
    "scrolled": true
   },
   "outputs": [],
   "source": [
    "# This should ultimately include measurement_unit and variable_name?\n",
    "query = f\"\"\"\n",
    "    SELECT\n",
    "        DISTINCT primary_location_id, configuration\n",
    "    FROM\n",
    "        read_parquet('{str(LOCAL_JOINED_FILEPATH)}')\n",
    "    GROUP BY primary_location_id, configuration\n",
    "    ORDER BY primary_location_id\n",
    ";\"\"\"\n",
    "groups_df = duckdb.sql(query).to_df()\n",
    "groups_df"
   ]
  },
  {
   "cell_type": "markdown",
   "id": "fb8be21d-8df7-438c-a4c9-265b28d7e5fb",
   "metadata": {},
   "source": [
    "**Threaded DuckDB Tests**"
   ]
  },
  {
   "cell_type": "code",
   "execution_count": null,
   "id": "b989f2f4-cecb-408a-a9fa-723ca9711132",
   "metadata": {},
   "outputs": [],
   "source": [
    "import duckdb\n",
    "from threading import Thread, current_thread\n",
    "import random\n",
    "\n",
    "duckdb_con = duckdb.connect(LOCAL_DATABASE_FILEPATH)"
   ]
  },
  {
   "cell_type": "code",
   "execution_count": null,
   "id": "24e570da-389a-429a-8b18-95737b282cfd",
   "metadata": {},
   "outputs": [],
   "source": [
    "def read_from_thread(duckdb_con, arr):\n",
    "    # Create a DuckDB connection specifically for this thread\n",
    "    local_con = duckdb_con.cursor()\n",
    "    \n",
    "    thread_name = str(current_thread().name)\n",
    "\n",
    "    primary_location_id = arr[0]\n",
    "    configuration = arr[1]\n",
    "\n",
    "    group_timeseries_query = f\"\"\"\n",
    "    SELECT\n",
    "        ? AS thread_name,\n",
    "        primary_value,\n",
    "        secondary_value\n",
    "    FROM\n",
    "        joined_timeseries\n",
    "    WHERE primary_location_id = '{str(primary_location_id)}' AND configuration = '{str(configuration)}'\n",
    "    ;\"\"\"    \n",
    "\n",
    "    results_dict = local_con.execute(group_timeseries_query, (thread_name,)).fetchnumpy()\n",
    "\n",
    "    results.append(results_dict)"
   ]
  },
  {
   "cell_type": "code",
   "execution_count": null,
   "id": "fade3423-e2e7-4ee4-95e3-ebe8be3802dc",
   "metadata": {},
   "outputs": [],
   "source": [
    "threads = []  \n",
    "results = []\n",
    "\n",
    "# This will create as many threads as there are groups\n",
    "for i, tpl in enumerate(groups_df.itertuples()):\n",
    "\n",
    "    threads.append(Thread(target = read_from_thread,\n",
    "                          args = (duckdb_con, tpl, results),\n",
    "                          name = \"read_thread_\" + str(i)))\n",
    "\n",
    "    if i > 100:\n",
    "        break"
   ]
  },
  {
   "cell_type": "code",
   "execution_count": null,
   "id": "9aaee8ab-6d8b-4795-b24d-3cdc5247f9cd",
   "metadata": {},
   "outputs": [],
   "source": [
    "# Kick off all threads in parallel\n",
    "for thread in threads:\n",
    "    thread.start()"
   ]
  },
  {
   "cell_type": "markdown",
   "id": "8664e4c9-e6f7-4c80-9e6b-6d57ce839f60",
   "metadata": {},
   "source": [
    "**Dask-Delayed + DuckDB Tests**"
   ]
  },
  {
   "cell_type": "code",
   "execution_count": null,
   "id": "c9f816ae-869b-43d2-a5e9-845c34c42c26",
   "metadata": {},
   "outputs": [],
   "source": [
    "# CON = duckdb.connect(LOCAL_DATABASE_FILEPATH, read_only=True)\n",
    "# CON.query(\"SHOW ALL TABLES;\")\n",
    "# CON = duckdb.connect()"
   ]
  },
  {
   "cell_type": "code",
   "execution_count": null,
   "id": "2031f09e-9844-4ae2-a6b6-8e60d1d8e5f5",
   "metadata": {},
   "outputs": [],
   "source": [
    "# LOCAL_JOINED_FILEPATH"
   ]
  },
  {
   "cell_type": "code",
   "execution_count": null,
   "id": "88588841-3115-43e2-84f5-ee6d01be9bc3",
   "metadata": {},
   "outputs": [],
   "source": [
    "@dask.delayed\n",
    "def fetch_group_and_calculate_metrics(connection, primary_location_id: str, configuration: str) -> pd.DataFrame:\n",
    "    \"\"\"Fetch data for a single group and calculate metrics using numpy\"\"\"\n",
    "    \n",
    "    group_timeseries_query = f\"\"\"\n",
    "    SELECT\n",
    "        primary_value,\n",
    "        secondary_value\n",
    "    FROM\n",
    "        read_parquet('{str(LOCAL_JOINED_FILEPATH)}')\n",
    "    WHERE primary_location_id = '{str(primary_location_id)}' AND configuration = '{str(configuration)}'\n",
    "    ;\"\"\"\n",
    "\n",
    "    local_con = connection.cursor()\n",
    "    value_arr_dict = local_con.sql(group_timeseries_query).fetchnumpy()\n",
    "\n",
    "    # DuckDB returns masked arrays only if it contains NaN? (seems like docs say otherwise)\n",
    "    if np.ma.is_masked(value_arr_dict[\"primary_value\"]) | np.ma.is_masked(value_arr_dict[\"secondary_value\"]):\n",
    "        print(\"masked\")\n",
    "        output = {\"primary_location_id\": primary_location_id,\n",
    "                  \"configuration\": configuration,\n",
    "                  \"r_squared\": np.nan,\n",
    "                  \"relative_bias\": np.nan,\n",
    "                  \"kling_gupta_efficiency\": np.nan,\n",
    "                  \"root_mean_squared_error\": np.nan\n",
    "                 }        \n",
    "        \n",
    "        return output\n",
    "\n",
    "    r_squared_val = r_squared(value_arr_dict[\"primary_value\"], value_arr_dict[\"secondary_value\"])\n",
    "    relative_bias_val = relative_bias(value_arr_dict[\"primary_value\"], value_arr_dict[\"secondary_value\"])\n",
    "    kge_val = kling_gupta_efficiency(value_arr_dict[\"primary_value\"], value_arr_dict[\"secondary_value\"])\n",
    "    rmse_val = root_mean_squared_error(value_arr_dict[\"primary_value\"], value_arr_dict[\"secondary_value\"])\n",
    "\n",
    "    output = {\"primary_location_id\": primary_location_id,\n",
    "              \"configuration\": configuration,\n",
    "              \"r_squared\": r_squared_val,\n",
    "              \"relative_bias\": relative_bias_val,\n",
    "              \"kling_gupta_efficiency\": kge_val,\n",
    "              \"root_mean_squared_error\": rmse_val\n",
    "             }\n",
    "    \n",
    "    return output"
   ]
  },
  {
   "cell_type": "code",
   "execution_count": null,
   "id": "386e1f0d-1075-4e75-b8e1-6ac7c236978a",
   "metadata": {},
   "outputs": [],
   "source": [
    "fetch_group_and_calculate_metrics(\"usgs-01010000\", \"nwm20_retrospective\")"
   ]
  },
  {
   "cell_type": "code",
   "execution_count": null,
   "id": "c09f0b82-4bd2-4ef7-a1ac-4441a0f79707",
   "metadata": {},
   "outputs": [],
   "source": [
    "%%time\n",
    "# NO DASK\n",
    "\n",
    "results = []\n",
    "for i, tpl in enumerate(groups_df.itertuples()):\n",
    "    results.append(fetch_group_and_calculate_metrics(tpl.primary_location_id, tpl.configuration))\n",
    "\n",
    "    if i == 30:\n",
    "        break"
   ]
  },
  {
   "cell_type": "code",
   "execution_count": null,
   "id": "2ac27ce2-debb-4482-bb68-7454c4f87486",
   "metadata": {},
   "outputs": [],
   "source": [
    "pd.DataFrame(results)"
   ]
  },
  {
   "cell_type": "code",
   "execution_count": null,
   "id": "b7c1f4df-446e-43c3-ba77-0e098870b24d",
   "metadata": {},
   "outputs": [],
   "source": [
    "cluster.close()"
   ]
  },
  {
   "cell_type": "code",
   "execution_count": null,
   "id": "01add112-84c4-4f49-9f1f-7bb97729f7eb",
   "metadata": {},
   "outputs": [],
   "source": [
    "cluster = LocalCluster()\n",
    "client = Client(cluster)\n",
    "client"
   ]
  },
  {
   "cell_type": "code",
   "execution_count": null,
   "id": "adc6b6ea-dca5-438e-9a55-0f29e2b8d376",
   "metadata": {},
   "outputs": [],
   "source": [
    "cluster.close()\n",
    "client.close()"
   ]
  },
  {
   "cell_type": "code",
   "execution_count": null,
   "id": "dbf6972d-07dc-44cf-9ea8-71af561a2229",
   "metadata": {},
   "outputs": [],
   "source": [
    "gateway = Gateway()\n",
    "\n",
    "options = gateway.cluster_options()\n",
    "options.worker_cores = 1\n",
    "options.worker_memory = 4\n",
    "# options  # should show interactive widget to select cores, etc\n",
    "\n",
    "cluster = gateway.new_cluster(options)\n",
    "client = cluster.get_client()\n",
    "client"
   ]
  },
  {
   "cell_type": "code",
   "execution_count": null,
   "id": "5eac8a59-1bf9-492d-8b73-87b3cd67b205",
   "metadata": {},
   "outputs": [],
   "source": [
    "cluster.scale(8)"
   ]
  },
  {
   "cell_type": "code",
   "execution_count": null,
   "id": "77ecc70a-828a-447a-855f-955854f5acc3",
   "metadata": {},
   "outputs": [],
   "source": [
    "# con = duckdb.connect(LOCAL_DATABASE_FILEPATH, read_only=True)\n",
    "# con.sql(\"SET memory_limit = '20GB';\")\n",
    "# con.sql(\"SET max_memory = '20GB';\")\n",
    "con = duckdb.connect()"
   ]
  },
  {
   "cell_type": "code",
   "execution_count": null,
   "id": "c1ad974f-fe2a-47d4-9106-f6f7f043b1f7",
   "metadata": {},
   "outputs": [],
   "source": [
    "%%time\n",
    "# WITH DASK DELAYED\n",
    "\n",
    "results = []\n",
    "for i, tpl in enumerate(groups_df.itertuples()):\n",
    "    results.append(fetch_group_and_calculate_metrics(con, tpl.primary_location_id, tpl.configuration))\n",
    "\n",
    "    # if i == 10:\n",
    "    #     break\n",
    "\n",
    "output = dask.compute(results)\n",
    "results_df = pd.DataFrame(output[0])"
   ]
  },
  {
   "cell_type": "code",
   "execution_count": null,
   "id": "a229a295-471d-45d3-8512-594b29c48b81",
   "metadata": {},
   "outputs": [],
   "source": [
    "results_df"
   ]
  },
  {
   "cell_type": "code",
   "execution_count": null,
   "id": "91c1d1e2-a8ac-4db4-9961-b2384706a855",
   "metadata": {},
   "outputs": [],
   "source": [
    "results_df.to_parquet(\"/data/benchmarks/teehr-benchmark-202404/results/dask_duckdb_local_joined_results.parquet\")"
   ]
  },
  {
   "cell_type": "code",
   "execution_count": null,
   "id": "c5bf308a-2153-481c-868a-bc068d68bd29",
   "metadata": {},
   "outputs": [],
   "source": []
  },
  {
   "cell_type": "code",
   "execution_count": null,
   "id": "0fb8a5e4-2faa-404a-8e2e-fbfc2adbba30",
   "metadata": {},
   "outputs": [],
   "source": []
  },
  {
   "cell_type": "code",
   "execution_count": null,
   "id": "f63d1fb4-6e52-48a9-88d1-fe4704e128c2",
   "metadata": {},
   "outputs": [],
   "source": []
  },
  {
   "cell_type": "code",
   "execution_count": null,
   "id": "3dc33292-3203-4cd7-af36-5eaf64043494",
   "metadata": {},
   "outputs": [],
   "source": []
  }
 ],
 "metadata": {
  "kernelspec": {
   "display_name": "Python 3 (ipykernel)",
   "language": "python",
   "name": "python3"
  },
  "language_info": {
   "codemirror_mode": {
    "name": "ipython",
    "version": 3
   },
   "file_extension": ".py",
   "mimetype": "text/x-python",
   "name": "python",
   "nbconvert_exporter": "python",
   "pygments_lexer": "ipython3",
   "version": "3.11.8"
  }
 },
 "nbformat": 4,
 "nbformat_minor": 5
}
