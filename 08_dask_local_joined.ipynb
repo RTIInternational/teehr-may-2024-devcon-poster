{
 "cells": [
  {
   "cell_type": "code",
   "execution_count": null,
   "id": "6255fd9a-b124-4c26-9b41-9cdf46461321",
   "metadata": {},
   "outputs": [],
   "source": [
    "from dask.distributed import Client, LocalCluster\n",
    "from dask_gateway import Gateway\n",
    "import dask.dataframe as dd\n",
    "import dask\n",
    "import numpy as np\n",
    "import pandas as pd\n",
    "\n",
    "from const import LOCAL_JOINED_FILEPATH\n",
    "from dask_metric_funcs import root_mean_squared_error, relative_bias, r_squared, kling_gupta_efficiency\n",
    "\n",
    "GROUPBY_FIELDS = [\"primary_location_id\", \"configuration\"]"
   ]
  },
  {
   "cell_type": "markdown",
   "id": "d8c3011d-56d9-47ac-870d-88aa3cffd7d9",
   "metadata": {},
   "source": [
    "**Local cluster**"
   ]
  },
  {
   "cell_type": "code",
   "execution_count": null,
   "id": "9b55fd89-e0ad-4bd7-bee9-1eb309eff423",
   "metadata": {},
   "outputs": [],
   "source": [
    "cluster = LocalCluster()\n",
    "client = Client(cluster)\n",
    "client"
   ]
  },
  {
   "cell_type": "markdown",
   "id": "4b2404d2-83d5-4377-80c4-ba3616b84a40",
   "metadata": {},
   "source": [
    "**Gateway cluster**"
   ]
  },
  {
   "cell_type": "code",
   "execution_count": null,
   "id": "22d4f10e-347c-497b-a32c-6f3899adc240",
   "metadata": {},
   "outputs": [],
   "source": [
    "gateway = Gateway()"
   ]
  },
  {
   "cell_type": "code",
   "execution_count": null,
   "id": "50556220-a12d-4c27-99eb-21dcfea8bbae",
   "metadata": {},
   "outputs": [],
   "source": [
    "options = gateway.cluster_options()\n",
    "options.worker_cores = 1\n",
    "options.worker_memory = 4\n",
    "# options  # should show interactive widget to select cores, etc\n",
    "\n",
    "cluster = gateway.new_cluster(options)\n",
    "client = cluster.get_client()\n",
    "client"
   ]
  },
  {
   "cell_type": "code",
   "execution_count": null,
   "id": "05ecdd67-458d-4eb7-a62a-2dd0b2dca772",
   "metadata": {},
   "outputs": [],
   "source": [
    "cluster.scale(8)"
   ]
  },
  {
   "cell_type": "code",
   "execution_count": null,
   "id": "7084328f-7cba-4ad5-b71a-59aeb189c0f9",
   "metadata": {},
   "outputs": [],
   "source": [
    "cluster.close()\n",
    "client.close()"
   ]
  },
  {
   "cell_type": "markdown",
   "id": "99efe99d-9c41-4b40-a22a-278aa445e3ae",
   "metadata": {},
   "source": [
    "NOTE: We don't see improvement (actually worse?) using a distributed cluster, probably because the dataset is not large enough to warrant its use"
   ]
  },
  {
   "cell_type": "markdown",
   "id": "a03f64db-ad6f-4762-8c85-8dcf18579303",
   "metadata": {},
   "source": [
    "**Calculate metrics**"
   ]
  },
  {
   "cell_type": "code",
   "execution_count": null,
   "id": "ed5c1d9c-2f94-4164-8b62-62d3b718a5f4",
   "metadata": {},
   "outputs": [],
   "source": [
    "# S3_JOINED_FILEPATH, LOCAL_JOINED_FILEPATH\n",
    "ddf = dd.read_parquet(\n",
    "    LOCAL_JOINED_FILEPATH,\n",
    "    columns=[\"primary_value\", \"secondary_value\", \"primary_location_id\", \"configuration\", \"absolute_difference\"]\n",
    ")"
   ]
  },
  {
   "cell_type": "code",
   "execution_count": null,
   "id": "fefbe1be-7212-47fb-bb10-8709495dde64",
   "metadata": {},
   "outputs": [],
   "source": [
    "ddf_tmp = ddf.copy()\n",
    "grouped = ddf_tmp.groupby(GROUPBY_FIELDS)[[\"primary_value\", \"secondary_value\"]]"
   ]
  },
  {
   "cell_type": "code",
   "execution_count": null,
   "id": "223e9669-cf4e-4db0-96ec-bfa0459b406a",
   "metadata": {},
   "outputs": [],
   "source": [
    "%%time\n",
    "rmse_srs = grouped.apply(root_mean_squared_error, meta=pd.Series(dtype=np.float32, name='root_mean_squared_error')).compute()\n",
    "bias_srs = grouped.apply(relative_bias, meta=pd.Series(dtype=np.float32, name='relative_bias')).compute()\n",
    "rsquared_srs = grouped.apply(r_squared, meta=pd.Series(dtype=np.float32, name='r_squared')).compute()\n",
    "kge_srs = grouped.apply(kling_gupta_efficiency, meta=pd.Series(dtype=np.float32, name='kling_gupta_efficiency')).compute()"
   ]
  },
  {
   "cell_type": "code",
   "execution_count": null,
   "id": "779dcc26-9802-43b7-a31c-43b9b4d3ea6a",
   "metadata": {},
   "outputs": [],
   "source": [
    "metrics_df = pd.concat([rmse_srs, bias_srs, rsquared_srs, kge_srs], axis=1)\n",
    "metrics_df = metrics_df.reset_index()\n",
    "metrics_df"
   ]
  },
  {
   "cell_type": "code",
   "execution_count": null,
   "id": "3858a786-7392-4d3a-bbd4-43c21f77102e",
   "metadata": {},
   "outputs": [],
   "source": [
    "metrics_df.to_parquet(\"/data/benchmarks/teehr-benchmark-202404/results/dask_local_joined_results.parquet\")"
   ]
  },
  {
   "cell_type": "code",
   "execution_count": null,
   "id": "5e7a8499-ea25-45e0-94a1-5696a3b5543d",
   "metadata": {},
   "outputs": [],
   "source": []
  },
  {
   "cell_type": "code",
   "execution_count": null,
   "id": "4e43dceb-83ea-4cf4-8b4b-7b6c066cb244",
   "metadata": {},
   "outputs": [],
   "source": [
    "# %%time\n",
    "# rmse_srs = root_mean_squared_error(ddf, groupby_fields=GROUPBY_FIELDS)\n",
    "# bias_srs = relative_bias(ddf, groupby_fields=GROUPBY_FIELDS)\n",
    "# r2_srs = r_squared(ddf, groupby_fields=GROUPBY_FIELDS)\n",
    "# kge_srs = kling_gupta_efficiency(ddf, groupby_fields=GROUPBY_FIELDS)\n",
    "\n",
    "# metrics_df = pd.concat([rmse_srs, bias_srs, r2_srs, kge_srs], axis=1)\n",
    "# metrics_df.reset_index(inplace=True)\n",
    "# metrics_df"
   ]
  },
  {
   "cell_type": "code",
   "execution_count": null,
   "id": "747f1bc0-0ac2-429f-9832-9cdb7311242e",
   "metadata": {},
   "outputs": [],
   "source": []
  },
  {
   "cell_type": "code",
   "execution_count": null,
   "id": "12e85b94-de96-4507-ac0e-b1d50c6b9d94",
   "metadata": {},
   "outputs": [],
   "source": []
  }
 ],
 "metadata": {
  "kernelspec": {
   "display_name": "Python 3 (ipykernel)",
   "language": "python",
   "name": "python3"
  },
  "language_info": {
   "codemirror_mode": {
    "name": "ipython",
    "version": 3
   },
   "file_extension": ".py",
   "mimetype": "text/x-python",
   "name": "python",
   "nbconvert_exporter": "python",
   "pygments_lexer": "ipython3",
   "version": "3.11.8"
  }
 },
 "nbformat": 4,
 "nbformat_minor": 5
}
