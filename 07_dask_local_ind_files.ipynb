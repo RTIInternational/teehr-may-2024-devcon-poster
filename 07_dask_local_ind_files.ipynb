{
 "cells": [
  {
   "cell_type": "code",
   "execution_count": null,
   "id": "e5f7188d-d90b-4f91-a93b-a2462a7b31e9",
   "metadata": {},
   "outputs": [],
   "source": [
    "import pandas as pd\n",
    "import duckdb\n",
    "import os\n",
    "from pathlib import Path\n",
    "import holoviews as hv\n",
    "\n",
    "from dask.distributed import Client, LocalCluster\n",
    "from dask_gateway import Gateway\n",
    "import dask.dataframe as dd\n",
    "import teehr.queries.duckdb as tqd\n",
    "import teehr.queries.pandas as tqp\n",
    "import teehr.classes.teehr_duckdb as tds"
   ]
  },
  {
   "cell_type": "code",
   "execution_count": null,
   "id": "c223bfe5-af6f-46d3-9ca6-d88a3cf89d00",
   "metadata": {},
   "outputs": [],
   "source": [
    "USGS_GEOMETRY = Path(\"/data/post-event/geo/usgs_point_geometry.conus.parquet\")\n",
    "CROSSWALK_FILEPATH = Path(\"/data/post-event/geo/usgs_nwm2*_crosswalk.conus.parquet\")\n",
    "\n",
    "# PRIMARY_FILEPATH = \"s3://ciroh-rti-public-data/teehr/protocols/science-eval/timeseries/usgs/*.parquet\"\n",
    "# SECONDARY_FILEPATH = \"s3://ciroh-rti-public-data/teehr/protocols/science-eval/timeseries/nwm2*/*.parquet\"\n",
    "# PRIMARY_FILEPATH = \"s3://ciroh-rti-public-data/teehr/protocols/science-eval/timeseries/usgs_*.parquet\"\n",
    "# SECONDARY_FILEPATH = \"s3://ciroh-rti-public-data/teehr/protocols/science-eval/timeseries/nwm2*.parquet\"\n",
    "# DATABASE_FILEPATH = \"s3://ciroh-rti-public-data/teehr/protocols/science-eval/retro.db\"\n",
    "\n",
    "PRIMARY_FILEPATH = \"/data/protocols/retro/timeseries/usgs_*.parquet\"\n",
    "SECONDARY_FILEPATH = \"/data/protocols/retro/timeseries/nwm2*.parquet\"\n",
    "DATABASE_FILEPATH = \"/data/protocols/retro/retro.db\""
   ]
  },
  {
   "cell_type": "code",
   "execution_count": null,
   "id": "93d1d0ac-b913-4358-aefd-7eee14fafbbf",
   "metadata": {},
   "outputs": [],
   "source": [
    "# duckdb.query(\"\"\"\n",
    "#     INSTALL httpfs;\n",
    "#     LOAD httpfs;\n",
    "# \"\"\")"
   ]
  },
  {
   "cell_type": "code",
   "execution_count": null,
   "id": "09e7551c-a0f5-4f64-8c9c-b8b31dafe0b8",
   "metadata": {},
   "outputs": [],
   "source": [
    "# Need to configure storage_options"
   ]
  },
  {
   "cell_type": "code",
   "execution_count": null,
   "id": "6335cd02-ac62-491e-9eb1-267c7fa51280",
   "metadata": {},
   "outputs": [],
   "source": [
    "# cluster = LocalCluster()\n",
    "# client = Client(cluster)"
   ]
  },
  {
   "cell_type": "code",
   "execution_count": null,
   "id": "9ab759e3-ac8e-4ba1-8ab9-060a70579a5b",
   "metadata": {},
   "outputs": [],
   "source": [
    "gateway = Gateway()"
   ]
  },
  {
   "cell_type": "code",
   "execution_count": null,
   "id": "bb8ea999-024b-4389-a85c-6447a80ff719",
   "metadata": {},
   "outputs": [],
   "source": [
    "options = gateway.cluster_options()\n",
    "options.worker_cores = 1\n",
    "options.worker_memory = 4\n",
    "options  # should show interactive widget to select cores, etc"
   ]
  },
  {
   "cell_type": "code",
   "execution_count": null,
   "id": "ab793760-648e-481e-9471-a2848f4481ba",
   "metadata": {},
   "outputs": [],
   "source": [
    "cluster = gateway.new_cluster(options)"
   ]
  },
  {
   "cell_type": "code",
   "execution_count": null,
   "id": "1cf59b79-bffd-4844-8b41-76c6a05138db",
   "metadata": {},
   "outputs": [],
   "source": [
    "client = cluster.get_client()\n",
    "client"
   ]
  },
  {
   "cell_type": "code",
   "execution_count": null,
   "id": "79e9de2c-d8b9-47e2-b96b-ec5aae4f5c18",
   "metadata": {},
   "outputs": [],
   "source": [
    "cluster.scale(8)"
   ]
  },
  {
   "cell_type": "code",
   "execution_count": null,
   "id": "a6ead038-2ec8-4f18-83e6-88a884838198",
   "metadata": {},
   "outputs": [],
   "source": [
    "# pddf = dd.read_parquet(PRIMARY_FILEPATH, storage_options=storage_options, engine=\"pyarrow\")\n",
    "pddf = dd.read_parquet(PRIMARY_FILEPATH, engine=\"pyarrow\")\n",
    "pddf[\"location_id\"] = pddf[\"location_id\"].astype(\"category\")\n",
    "pddf[\"measurement_unit\"] = pddf[\"measurement_unit\"].astype(\"category\")\n",
    "pddf[\"configuration\"] = pddf[\"measurement_unit\"].astype(\"category\")\n",
    "pddf[\"variable_name\"] = pddf[\"variable_name\"].astype(\"category\")\n",
    "# pddf.set_index(\"value_time\")\n",
    "pddf"
   ]
  },
  {
   "cell_type": "code",
   "execution_count": null,
   "id": "634ef4c6-efb6-4693-8abd-08657625df85",
   "metadata": {},
   "outputs": [],
   "source": [
    "sddf = dd.read_parquet(SECONDARY_FILEPATH, storage_options=storage_options)\n",
    "sddf[\"location_id\"] = pddf[\"location_id\"].astype(\"category\")\n",
    "sddf[\"measurement_unit\"] = pddf[\"measurement_unit\"].astype(\"category\")\n",
    "sddf[\"configuration\"] = pddf[\"measurement_unit\"].astype(\"category\")\n",
    "sddf[\"variable_name\"] = pddf[\"variable_name\"].astype(\"category\")\n",
    "sddf.set_index(\"value_time\")\n",
    "sddf"
   ]
  },
  {
   "cell_type": "code",
   "execution_count": null,
   "id": "dd3308cd-ed63-4330-a08a-175ca21bedfe",
   "metadata": {},
   "outputs": [],
   "source": [
    "nwm20 = dd.read_parquet(\"/data/post-event/geo/usgs_nwm20_crosswalk.conus.parquet\")\n",
    "nwm21 = dd.read_parquet(\"/data/post-event/geo/usgs_nwm21_crosswalk.conus.parquet\")\n",
    "nwm22 = dd.read_parquet(\"/data/post-event/geo/usgs_nwm22_crosswalk.conus.parquet\")\n",
    "nwm20 = nwm20.reset_index().drop(columns=[\"feature_id\"])\n",
    "xw = dd.concat([nwm20, nwm21, nwm22])\n",
    "xw[\"primary_location_id\"] = xw[\"primary_location_id\"].astype(\"category\")\n",
    "xw[\"secondary_location_id\"] = xw[\"secondary_location_id\"].astype(\"category\")\n",
    "xw"
   ]
  },
  {
   "cell_type": "code",
   "execution_count": null,
   "id": "5c2e5ed8-002a-45c0-9500-c6c20653e760",
   "metadata": {},
   "outputs": [],
   "source": [
    "sddf_xw = sddf.merge(xw, right_on=\"secondary_location_id\", left_on=\"location_id\")\n",
    "sddf_xw"
   ]
  },
  {
   "cell_type": "code",
   "execution_count": null,
   "id": "18f62a82-a3f8-4162-a59a-f7619f078d1a",
   "metadata": {},
   "outputs": [],
   "source": [
    "joined = sddf_xw.merge(pddf, right_on=[\"location_id\", \"value_time\"], left_on=[\"primary_location_id\", \"value_time\"])\n",
    "joined"
   ]
  },
  {
   "cell_type": "code",
   "execution_count": null,
   "id": "825ebfcf-ac71-45aa-a69a-5f5a253a1241",
   "metadata": {},
   "outputs": [],
   "source": [
    "joined.groupby(\"primary_location_id\", observed=False).value_x.sum().compute()"
   ]
  },
  {
   "cell_type": "code",
   "execution_count": null,
   "id": "1eaacfcc-a5ce-4ccf-905d-26f5efc16bc8",
   "metadata": {},
   "outputs": [],
   "source": [
    "pddf.groupby(\"location_id\", observed=False).value.sum().compute()"
   ]
  },
  {
   "cell_type": "code",
   "execution_count": null,
   "id": "7b7421be-02f3-430b-a21f-d169a80c887d",
   "metadata": {},
   "outputs": [],
   "source": [
    "sddf.groupby(\"location_id\", observed=False).value.sum().compute()"
   ]
  },
  {
   "cell_type": "code",
   "execution_count": null,
   "id": "68123ebb-4c30-4fea-8390-282473ddf0c1",
   "metadata": {},
   "outputs": [],
   "source": [
    "cluster.shutdown()"
   ]
  },
  {
   "cell_type": "code",
   "execution_count": null,
   "id": "9f7fe8b9-fea4-47e2-be89-44447802209e",
   "metadata": {},
   "outputs": [],
   "source": [
    "%%time\n",
    "nwm = dd.read_parquet(PRIMARY_FILEPATH)\n",
    "len(nwm)"
   ]
  },
  {
   "cell_type": "code",
   "execution_count": null,
   "id": "2a04c545-6d3c-446a-9249-978e9f710f67",
   "metadata": {},
   "outputs": [],
   "source": [
    "%%time\n",
    "df = duckdb.query(f\"\"\"\n",
    "SELECT * FROM read_parquet('{PRIMARY_FILEPATH}');\n",
    "\"\"\").to_df()\n",
    "df"
   ]
  },
  {
   "cell_type": "code",
   "execution_count": null,
   "id": "99bf2fef-811a-4f8c-b367-78dbf069c76c",
   "metadata": {},
   "outputs": [],
   "source": [
    "%%time\n",
    "df = duckdb.query(f\"\"\"\n",
    "SELECT * FROM read_parquet('{CROSSWALK_FILEPATH}');\n",
    "\"\"\").to_df()\n",
    "df"
   ]
  },
  {
   "cell_type": "code",
   "execution_count": null,
   "id": "cc012bd3-8f1c-4b11-b4de-81e7ca83e3c2",
   "metadata": {},
   "outputs": [],
   "source": [
    "%%time\n",
    "df = duckdb.query(f\"\"\"\n",
    "SELECT * FROM read_parquet('{SECONDARY_FILEPATH}');\n",
    "\"\"\").to_df()\n",
    "df"
   ]
  },
  {
   "cell_type": "code",
   "execution_count": null,
   "id": "331cb5a3-df43-4bb1-a225-7d135cb5de3e",
   "metadata": {},
   "outputs": [],
   "source": [
    "%%time\n",
    "df = tqd.get_metrics(\n",
    "    primary_filepath=PRIMARY_FILEPATH,\n",
    "    secondary_filepath=SECONDARY_FILEPATH,\n",
    "    crosswalk_filepath=CROSSWALK_FILEPATH,\n",
    "    include_metrics=[\"primary_count\"],\n",
    "    group_by=[\"primary_location_id\", \"configuration\"],\n",
    "    order_by=[\"primary_location_id\", \"configuration\"],\n",
    "    remove_duplicates=False,\n",
    "    return_query=True,\n",
    ")\n",
    "print(df)"
   ]
  },
  {
   "cell_type": "code",
   "execution_count": null,
   "id": "bb4273c2-0d1e-4ee8-bf15-a3eca4469394",
   "metadata": {},
   "outputs": [],
   "source": [
    "%%time\n",
    "df = tqp.get_metrics(\n",
    "    primary_filepath=PRIMARY_FILEPATH,\n",
    "    secondary_filepath=SECONDARY_FILEPATH,\n",
    "    crosswalk_filepath=CROSSWALK_FILEPATH,\n",
    "    include_metrics=[\"primary_count\"],\n",
    "    group_by=[\"primary_location_id\", \"configuration\"],\n",
    "    order_by=[\"primary_location_id\", \"configuration\"],\n",
    "    # filters = [\n",
    "    #     {\n",
    "    #         \"column\": \"primary_location_id\",\n",
    "    #         \"operator\": \"=\",\n",
    "    #         \"value\": \"usgs-01010000\",\n",
    "    #     }\n",
    "    # ]\n",
    ")\n",
    "df"
   ]
  },
  {
   "cell_type": "code",
   "execution_count": null,
   "id": "36e3e997-5b42-43f7-b1fc-3cfe9a99647c",
   "metadata": {},
   "outputs": [],
   "source": [
    "tdb = tds.TEEHRDatasetDB(DATABASE_FILEPATH)"
   ]
  },
  {
   "cell_type": "code",
   "execution_count": null,
   "id": "12d1e6c8-aea5-4ef7-96af-f93cd0917652",
   "metadata": {},
   "outputs": [],
   "source": [
    "%%time\n",
    "df = tdb.get_metrics(\n",
    "    include_metrics=[\"primary_count\"],\n",
    "    group_by=[\"primary_location_id\", \"configuration\"],\n",
    "    order_by=[\"primary_location_id\", \"configuration\"],\n",
    ")\n",
    "df"
   ]
  },
  {
   "cell_type": "code",
   "execution_count": null,
   "id": "02220c93-aad6-438d-8e96-b3f1cd6e2c4d",
   "metadata": {},
   "outputs": [],
   "source": [
    "%%time \n",
    "df = duckdb.query(\"\"\"\n",
    " WITH joined AS (\n",
    "            SELECT\n",
    "                *\n",
    "            FROM read_parquet('s3://ciroh-rti-public-data/teehr/protocols/science-eval/timeseries/joined_nwm2*.parquet')\n",
    "        )\n",
    "        , metrics AS (\n",
    "            SELECT\n",
    "                joined.primary_location_id,joined.configuration\n",
    "                , count(primary_value) as primary_count\n",
    "            FROM\n",
    "                joined\n",
    "            GROUP BY\n",
    "                joined.primary_location_id,joined.configuration\n",
    "        )\n",
    "        SELECT\n",
    "            metrics.*\n",
    "        FROM metrics\n",
    "        ORDER BY\n",
    "            metrics.primary_location_id,metrics.configuration\n",
    "    ;\n",
    "    \"\"\").to_df()\n",
    "df"
   ]
  },
  {
   "cell_type": "code",
   "execution_count": null,
   "id": "c1c418b5-0973-44ba-9335-b6331bd6b1af",
   "metadata": {},
   "outputs": [],
   "source": []
  }
 ],
 "metadata": {
  "kernelspec": {
   "display_name": "Python 3 (ipykernel)",
   "language": "python",
   "name": "python3"
  },
  "language_info": {
   "codemirror_mode": {
    "name": "ipython",
    "version": 3
   },
   "file_extension": ".py",
   "mimetype": "text/x-python",
   "name": "python",
   "nbconvert_exporter": "python",
   "pygments_lexer": "ipython3",
   "version": "3.11.8"
  }
 },
 "nbformat": 4,
 "nbformat_minor": 5
}
