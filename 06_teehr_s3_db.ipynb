{
 "cells": [
  {
   "cell_type": "code",
   "execution_count": null,
   "id": "afc3b04c-ca70-4ff1-a432-34049e2bdf95",
   "metadata": {},
   "outputs": [],
   "source": [
    "# Could not get this to work.  Exclude from test."
   ]
  },
  {
   "cell_type": "code",
   "execution_count": null,
   "id": "b8e9191f-b1bb-417c-a1ee-24dfdd794125",
   "metadata": {},
   "outputs": [],
   "source": [
    "from utils.const import *\n",
    "import teehr.classes.duckdb_database as tds\n",
    "import duckdb"
   ]
  },
  {
   "cell_type": "markdown",
   "id": "1eaf5225-cf71-40de-bca7-b2445cac73db",
   "metadata": {},
   "source": [
    "Note: I get a connection error when trying to connect to the DB on s3 via TEEHR"
   ]
  },
  {
   "cell_type": "code",
   "execution_count": null,
   "id": "eb0ebcdf-ba02-469c-84d8-d427942f2115",
   "metadata": {},
   "outputs": [],
   "source": [
    "tdb = tds.DuckDBDatabase(S3_DATABASE_FILEPATH)"
   ]
  },
  {
   "cell_type": "code",
   "execution_count": null,
   "id": "551cfdce-f9ed-40b0-b4f0-fe534ef53f5a",
   "metadata": {},
   "outputs": [],
   "source": [
    "# %%time\n",
    "# df = tdb.get_metrics(\n",
    "#     include_metrics=[\"root_mean_squared_error\", \"relative_bias\", \"kling_gupta_efficiency\", \"r_squared\"],\n",
    "#     group_by=[\"primary_location_id\", \"configuration\"],\n",
    "#     order_by=[\"primary_location_id\", \"configuration\"],\n",
    "# )\n",
    "# df"
   ]
  },
  {
   "cell_type": "markdown",
   "id": "91cf80a0-ec70-44d6-be14-c91076570c1e",
   "metadata": {},
   "source": [
    "Connecting manually using DuckDB"
   ]
  },
  {
   "cell_type": "code",
   "execution_count": null,
   "id": "b653b440-0b47-4ca4-8cee-8483acb50628",
   "metadata": {},
   "outputs": [],
   "source": [
    "S3_DATABASE_FILEPATH"
   ]
  },
  {
   "cell_type": "code",
   "execution_count": null,
   "id": "27ceadcb-858b-461a-9262-431249d80836",
   "metadata": {},
   "outputs": [],
   "source": [
    "duckdb.query(\"LOAD httpfs;\")"
   ]
  },
  {
   "cell_type": "code",
   "execution_count": null,
   "id": "da6797c9-8384-4059-b6a4-9a8695b7aa58",
   "metadata": {},
   "outputs": [],
   "source": [
    "duckdb.query(\"ATTACH 's3://ciroh-rti-public-data/teehr/protocols/science-eval/retro.db' AS retro_db (READ_ONLY);\")"
   ]
  },
  {
   "cell_type": "code",
   "execution_count": null,
   "id": "6d079a90-f7f0-4bc5-b2d2-a8ad6c2ee845",
   "metadata": {},
   "outputs": [],
   "source": [
    "%%time\n",
    "df = duckdb.query(f\"\"\"\n",
    "WITH joined AS (\n",
    "        SELECT * FROM retro_db.joined_timeseries\n",
    "    )\n",
    "    , metrics AS (\n",
    "        SELECT\n",
    "            joined.primary_location_id,joined.configuration\n",
    "            , 1 - sqrt(\n",
    "        pow(corr(secondary_value, primary_value) - 1, 2)\n",
    "        + pow(stddev(secondary_value)\n",
    "            / stddev(primary_value) - 1, 2)\n",
    "        + pow(avg(secondary_value) / avg(primary_value) - 1, 2)\n",
    "    ) as kling_gupta_efficiency\n",
    "            , sqrt(sum(power(absolute_difference, 2))/count(*))\n",
    "        as root_mean_squared_error\n",
    "            , sum(secondary_value - primary_value) / sum(primary_value) AS relative_bias\n",
    "            , pow(corr(secondary_value, primary_value), 2) as r_squared\n",
    "        FROM\n",
    "            joined\n",
    "        GROUP BY\n",
    "            joined.primary_location_id,joined.configuration\n",
    "    )\n",
    "    SELECT\n",
    "        metrics.*\n",
    "    FROM metrics\n",
    "    ORDER BY\n",
    "        metrics.primary_location_id,metrics.configuration\n",
    ";\n",
    "\"\"\").to_df()\n",
    "df"
   ]
  },
  {
   "cell_type": "code",
   "execution_count": null,
   "id": "86bf831b-35c2-4c36-91c0-47e71c112479",
   "metadata": {},
   "outputs": [],
   "source": [
    "duckdb.query(\"DESCRIBE SELECT * FROM retro_db.joined_timeseries;\")"
   ]
  },
  {
   "cell_type": "code",
   "execution_count": null,
   "id": "04b2881a-1e91-4872-bc9b-37f7fd90e585",
   "metadata": {},
   "outputs": [],
   "source": []
  }
 ],
 "metadata": {
  "kernelspec": {
   "display_name": "Python 3 (ipykernel)",
   "language": "python",
   "name": "python3"
  },
  "language_info": {
   "codemirror_mode": {
    "name": "ipython",
    "version": 3
   },
   "file_extension": ".py",
   "mimetype": "text/x-python",
   "name": "python",
   "nbconvert_exporter": "python",
   "pygments_lexer": "ipython3",
   "version": "3.11.8"
  }
 },
 "nbformat": 4,
 "nbformat_minor": 5
}
