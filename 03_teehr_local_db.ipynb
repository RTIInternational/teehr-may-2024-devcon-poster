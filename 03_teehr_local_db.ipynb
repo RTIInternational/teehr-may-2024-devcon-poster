{
 "cells": [
  {
   "cell_type": "code",
   "execution_count": null,
   "id": "b8e9191f-b1bb-417c-a1ee-24dfdd794125",
   "metadata": {},
   "outputs": [],
   "source": [
    "from utils.const import *\n",
    "import teehr.classes.teehr_duckdb as tds"
   ]
  },
  {
   "cell_type": "code",
   "execution_count": null,
   "id": "eb0ebcdf-ba02-469c-84d8-d427942f2115",
   "metadata": {},
   "outputs": [],
   "source": [
    "tdb = tds.DuckDBDatabase(LOCAL_DATABASE_FILEPATH)"
   ]
  },
  {
   "cell_type": "code",
   "execution_count": null,
   "id": "551cfdce-f9ed-40b0-b4f0-fe534ef53f5a",
   "metadata": {},
   "outputs": [],
   "source": [
    "%%time\n",
    "df = tdb.get_metrics(\n",
    "    include_metrics=[\"root_mean_squared_error\", \"relative_bias\", \"kling_gupta_efficiency\", \"r_squared\"],\n",
    "    group_by=[\"primary_location_id\", \"configuration\"],\n",
    "    order_by=[\"primary_location_id\", \"configuration\"],\n",
    ")\n",
    "df"
   ]
  },
  {
   "cell_type": "code",
   "execution_count": null,
   "id": "6d079a90-f7f0-4bc5-b2d2-a8ad6c2ee845",
   "metadata": {},
   "outputs": [],
   "source": []
  }
 ],
 "metadata": {
  "kernelspec": {
   "display_name": "Python 3 (ipykernel)",
   "language": "python",
   "name": "python3"
  },
  "language_info": {
   "codemirror_mode": {
    "name": "ipython",
    "version": 3
   },
   "file_extension": ".py",
   "mimetype": "text/x-python",
   "name": "python",
   "nbconvert_exporter": "python",
   "pygments_lexer": "ipython3",
   "version": "3.11.8"
  }
 },
 "nbformat": 4,
 "nbformat_minor": 5
}
