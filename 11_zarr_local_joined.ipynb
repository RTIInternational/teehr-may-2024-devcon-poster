{
 "cells": [
  {
   "cell_type": "code",
   "execution_count": null,
   "id": "7bf6e326-1ef9-43de-bbf5-8278a933efaf",
   "metadata": {},
   "outputs": [],
   "source": [
    "from pathlib import Path\n",
    "\n",
    "import duckdb\n",
    "import xarray as xr\n",
    "from dask.distributed import Client, LocalCluster\n",
    "from dask_gateway import Gateway\n",
    "import dask\n",
    "import numpy as np\n",
    "import pandas as pd\n",
    "\n",
    "import teehr.queries.duckdb as tqd\n",
    "\n",
    "from const import LOCAL_ZARR_JOINED_NWM20_FILEPATH, LOCAL_ZARR_JOINED_NWM21_FILEPATH, LOCAL_JOINED_NWM20_FILEPATH\n",
    "\n",
    "from zarr_metric_funcs import get_zarr_metrics  # r_squared, relative_bias, root_mean_squared_error, kling_gupta_efficiency"
   ]
  },
  {
   "cell_type": "markdown",
   "id": "3d811059-a6ba-42da-8bac-0c65fb591a0c",
   "metadata": {},
   "source": [
    "Goal: Compare performance in pulling data from zarr with xarray and parquet using duckdb and calculating simple metrics for a **single configuration**.\n",
    "\n",
    "Note: Combining multiple configurations into a single Zarr store\n",
    "presents a challenge when the number of location_ids differs between configurations.\n",
    "\n"
   ]
  },
  {
   "cell_type": "code",
   "execution_count": null,
   "id": "6319d9e3-19fe-49aa-9cf3-a42e5e06fc6e",
   "metadata": {},
   "outputs": [],
   "source": [
    "cluster = LocalCluster()\n",
    "client = Client(cluster)\n",
    "client"
   ]
  },
  {
   "cell_type": "code",
   "execution_count": null,
   "id": "b9a5c93f-74d3-4d23-9151-950045aad943",
   "metadata": {},
   "outputs": [],
   "source": [
    "%%time\n",
    "zarr_ds = xr.open_zarr(LOCAL_ZARR_JOINED_NWM20_FILEPATH)\n",
    "primary_da = zarr_ds.streamflow.sel(timeseries_name=\"primary_value\")\n",
    "secondary_da = zarr_ds.streamflow.sel(timeseries_name=\"secondary_value\")\n",
    "df_nwm20 = get_zarr_metrics(primary_da, secondary_da, configuration=\"nwm20_retrospective\")\n",
    "\n",
    "zarr_ds = xr.open_zarr(LOCAL_ZARR_JOINED_NWM21_FILEPATH)\n",
    "primary_da = zarr_ds.streamflow.sel(timeseries_name=\"primary_value\")\n",
    "secondary_da = zarr_ds.streamflow.sel(timeseries_name=\"secondary_value\")\n",
    "df_nwm21 = get_zarr_metrics(primary_da, secondary_da, configuration=\"nwm21_retrospective\")\n",
    "\n",
    "df = pd.concat([df_nwm20, df_nwm21])\n",
    "df.sort_values([\"primary_location_id\", \"configuration\"])"
   ]
  },
  {
   "cell_type": "code",
   "execution_count": null,
   "id": "404beeeb-9f5d-4f5b-a5bb-a3097e6b1e5b",
   "metadata": {},
   "outputs": [],
   "source": [
    "df.to_parquet(\"/data/benchmarks/teehr-benchmark-202404/results/zarr_local_joined_results.parquet\")"
   ]
  },
  {
   "cell_type": "code",
   "execution_count": null,
   "id": "eef4f7fe-57e9-4b3c-ae14-43e23688afa5",
   "metadata": {},
   "outputs": [],
   "source": [
    "df"
   ]
  },
  {
   "cell_type": "code",
   "execution_count": null,
   "id": "09c277ee-3b6a-458d-9a51-5770dde440c4",
   "metadata": {},
   "outputs": [],
   "source": []
  }
 ],
 "metadata": {
  "kernelspec": {
   "display_name": "Python 3 (ipykernel)",
   "language": "python",
   "name": "python3"
  },
  "language_info": {
   "codemirror_mode": {
    "name": "ipython",
    "version": 3
   },
   "file_extension": ".py",
   "mimetype": "text/x-python",
   "name": "python",
   "nbconvert_exporter": "python",
   "pygments_lexer": "ipython3",
   "version": "3.11.8"
  }
 },
 "nbformat": 4,
 "nbformat_minor": 5
}
